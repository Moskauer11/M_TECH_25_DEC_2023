{
 "cells": [
  {
   "cell_type": "markdown",
   "metadata": {},
   "source": [
    "1. Импортируем библиотеки"
   ]
  },
  {
   "cell_type": "code",
   "execution_count": 61,
   "metadata": {},
   "outputs": [],
   "source": [
    "import pandas as pd\n",
    "import scipy\n",
    "import scipy.stats"
   ]
  },
  {
   "cell_type": "markdown",
   "metadata": {},
   "source": [
    "2. Загружаем файл csv и смотрим изначально загруженный вариант"
   ]
  },
  {
   "cell_type": "code",
   "execution_count": 62,
   "metadata": {},
   "outputs": [
    {
     "data": {
      "text/html": [
       "<div>\n",
       "<style scoped>\n",
       "    .dataframe tbody tr th:only-of-type {\n",
       "        vertical-align: middle;\n",
       "    }\n",
       "\n",
       "    .dataframe tbody tr th {\n",
       "        vertical-align: top;\n",
       "    }\n",
       "\n",
       "    .dataframe thead th {\n",
       "        text-align: right;\n",
       "    }\n",
       "</style>\n",
       "<table border=\"1\" class=\"dataframe\">\n",
       "  <thead>\n",
       "    <tr style=\"text-align: right;\">\n",
       "      <th></th>\n",
       "      <th>\"Количество больничных дней</th>\n",
       "      <th>\"\"Возраст\"\"</th>\n",
       "      <th>\"\"Пол\"\"\"</th>\n",
       "    </tr>\n",
       "  </thead>\n",
       "  <tbody>\n",
       "    <tr>\n",
       "      <th>0</th>\n",
       "      <td>\"5</td>\n",
       "      <td>39</td>\n",
       "      <td>\"\"Ж\"\"\"</td>\n",
       "    </tr>\n",
       "    <tr>\n",
       "      <th>1</th>\n",
       "      <td>\"4</td>\n",
       "      <td>54</td>\n",
       "      <td>\"\"М\"\"\"</td>\n",
       "    </tr>\n",
       "    <tr>\n",
       "      <th>2</th>\n",
       "      <td>\"4</td>\n",
       "      <td>26</td>\n",
       "      <td>\"\"М\"\"\"</td>\n",
       "    </tr>\n",
       "    <tr>\n",
       "      <th>3</th>\n",
       "      <td>\"5</td>\n",
       "      <td>42</td>\n",
       "      <td>\"\"М\"\"\"</td>\n",
       "    </tr>\n",
       "    <tr>\n",
       "      <th>4</th>\n",
       "      <td>\"4</td>\n",
       "      <td>29</td>\n",
       "      <td>\"\"М\"\"\"</td>\n",
       "    </tr>\n",
       "  </tbody>\n",
       "</table>\n",
       "</div>"
      ],
      "text/plain": [
       "  \"Количество больничных дней  \"\"Возраст\"\" \"\"Пол\"\"\"\n",
       "0                          \"5           39   \"\"Ж\"\"\"\n",
       "1                          \"4           54   \"\"М\"\"\"\n",
       "2                          \"4           26   \"\"М\"\"\"\n",
       "3                          \"5           42   \"\"М\"\"\"\n",
       "4                          \"4           29   \"\"М\"\"\""
      ]
     },
     "metadata": {},
     "output_type": "display_data"
    }
   ],
   "source": [
    "data_raw=pd.read_csv(r'M-TEX DATA/М.Тех_Данные_к_ТЗ_DS.csv',sep=',', encoding='cp1251', quoting=3 )\n",
    "display(data_raw.head())"
   ]
  },
  {
   "cell_type": "markdown",
   "metadata": {},
   "source": [
    "3. Редактируем данный так, чтобы их можно было дальше обрабатывать"
   ]
  },
  {
   "cell_type": "code",
   "execution_count": 63,
   "metadata": {},
   "outputs": [
    {
     "name": "stdout",
     "output_type": "stream",
     "text": [
      "['Количество больничных дней', 'Возраст', 'Пол']\n"
     ]
    },
    {
     "data": {
      "text/html": [
       "<div>\n",
       "<style scoped>\n",
       "    .dataframe tbody tr th:only-of-type {\n",
       "        vertical-align: middle;\n",
       "    }\n",
       "\n",
       "    .dataframe tbody tr th {\n",
       "        vertical-align: top;\n",
       "    }\n",
       "\n",
       "    .dataframe thead th {\n",
       "        text-align: right;\n",
       "    }\n",
       "</style>\n",
       "<table border=\"1\" class=\"dataframe\">\n",
       "  <thead>\n",
       "    <tr style=\"text-align: right;\">\n",
       "      <th></th>\n",
       "      <th>Количество больничных дней</th>\n",
       "      <th>Возраст</th>\n",
       "      <th>Пол</th>\n",
       "    </tr>\n",
       "  </thead>\n",
       "  <tbody>\n",
       "    <tr>\n",
       "      <th>0</th>\n",
       "      <td>5</td>\n",
       "      <td>39</td>\n",
       "      <td>Ж</td>\n",
       "    </tr>\n",
       "    <tr>\n",
       "      <th>1</th>\n",
       "      <td>4</td>\n",
       "      <td>54</td>\n",
       "      <td>М</td>\n",
       "    </tr>\n",
       "    <tr>\n",
       "      <th>2</th>\n",
       "      <td>4</td>\n",
       "      <td>26</td>\n",
       "      <td>М</td>\n",
       "    </tr>\n",
       "    <tr>\n",
       "      <th>3</th>\n",
       "      <td>5</td>\n",
       "      <td>42</td>\n",
       "      <td>М</td>\n",
       "    </tr>\n",
       "    <tr>\n",
       "      <th>4</th>\n",
       "      <td>4</td>\n",
       "      <td>29</td>\n",
       "      <td>М</td>\n",
       "    </tr>\n",
       "  </tbody>\n",
       "</table>\n",
       "</div>"
      ],
      "text/plain": [
       "  Количество больничных дней  Возраст Пол\n",
       "0                          5       39   Ж\n",
       "1                          4       54   М\n",
       "2                          4       26   М\n",
       "3                          5       42   М\n",
       "4                          4       29   М"
      ]
     },
     "metadata": {},
     "output_type": "display_data"
    }
   ],
   "source": [
    "new_columns=[]\n",
    "for i in range(len(data_raw.columns)):\n",
    "    #print(data_raw.columns[i])\n",
    "    x=data_raw.columns[i].replace('\"', \"\")\n",
    "    #print(x)\n",
    "    new_columns.append(x)\n",
    "print(new_columns)\n",
    "\n",
    "data_raw.columns=new_columns\n",
    "\n",
    "new_ill_days=[]\n",
    "for i in range(len(data_raw['Количество больничных дней'])):\n",
    "    #print(data_raw['Количество больничных дней'][i])\n",
    "    x=data_raw['Количество больничных дней'][i].replace('\"', \"\")\n",
    "    #print(x)\n",
    "    new_ill_days.append(x)\n",
    "#print(new_ill_days)\n",
    "data_raw['Количество больничных дней']=new_ill_days\n",
    "\n",
    "new_sexes=[]\n",
    "for i in range(len(data_raw['Пол'])):\n",
    "    #print(data_raw['Пол'][i])\n",
    "    x=data_raw['Пол'][i].replace('\"', \"\")\n",
    "    #print(x)\n",
    "    new_sexes.append(x)\n",
    "#print(new_sexes)\n",
    "data_raw['Пол']=new_sexes\n",
    "\n",
    "display(data_raw.head())"
   ]
  },
  {
   "cell_type": "markdown",
   "metadata": {},
   "source": [
    "4. Проверим данные на Nan и проверим однородность форматов по столбцам"
   ]
  },
  {
   "cell_type": "code",
   "execution_count": 64,
   "metadata": {},
   "outputs": [
    {
     "name": "stdout",
     "output_type": "stream",
     "text": [
      "-------------------------------------------------------------------------------\n",
      "Количество больничных дней    True\n",
      "dtype: bool\n",
      "Возраст    True\n",
      "dtype: bool\n",
      "Пол    True\n",
      "dtype: bool\n",
      "-------------------------------------------------------------------------------\n",
      "Количество больничных дней    False\n",
      "Возраст                       False\n",
      "Пол                           False\n",
      "dtype: bool\n",
      "-------------------------------------------------------------------------------\n",
      "Количество больничных дней    0\n",
      "Возраст                       0\n",
      "Пол                           0\n",
      "dtype: int64\n",
      "-------------------------------------------------------------------------------\n"
     ]
    }
   ],
   "source": [
    "print('-------------------------------------------------------------------------------')\n",
    "print(pd.DataFrame(data_raw['Количество больничных дней']).applymap(type).eq(str).all())\n",
    "print(pd.DataFrame(data_raw['Возраст']).applymap(type).eq(int).all())\n",
    "print(pd.DataFrame(data_raw['Пол']).applymap(type).eq(str).all())\n",
    "print('-------------------------------------------------------------------------------')\n",
    "print(pd.DataFrame(data_raw).isnull().any())\n",
    "print('-------------------------------------------------------------------------------')\n",
    "print(pd.DataFrame(data_raw).isnull().sum())\n",
    "print('-------------------------------------------------------------------------------')"
   ]
  },
  {
   "cell_type": "code",
   "execution_count": 65,
   "metadata": {},
   "outputs": [],
   "source": [
    "df_raw=pd.DataFrame(data_raw)"
   ]
  },
  {
   "cell_type": "markdown",
   "metadata": {},
   "source": [
    "I. Задача о зависимости числа больничных дней от пола работника"
   ]
  },
  {
   "cell_type": "markdown",
   "metadata": {},
   "source": [
    "1.Введём dummies для пола"
   ]
  },
  {
   "cell_type": "code",
   "execution_count": 66,
   "metadata": {},
   "outputs": [
    {
     "data": {
      "text/html": [
       "<div>\n",
       "<style scoped>\n",
       "    .dataframe tbody tr th:only-of-type {\n",
       "        vertical-align: middle;\n",
       "    }\n",
       "\n",
       "    .dataframe tbody tr th {\n",
       "        vertical-align: top;\n",
       "    }\n",
       "\n",
       "    .dataframe thead th {\n",
       "        text-align: right;\n",
       "    }\n",
       "</style>\n",
       "<table border=\"1\" class=\"dataframe\">\n",
       "  <thead>\n",
       "    <tr style=\"text-align: right;\">\n",
       "      <th></th>\n",
       "      <th>Количество больничных дней</th>\n",
       "      <th>Возраст</th>\n",
       "      <th>Пол_Ж</th>\n",
       "      <th>Пол_М</th>\n",
       "    </tr>\n",
       "  </thead>\n",
       "  <tbody>\n",
       "    <tr>\n",
       "      <th>0</th>\n",
       "      <td>5.0</td>\n",
       "      <td>39</td>\n",
       "      <td>1</td>\n",
       "      <td>0</td>\n",
       "    </tr>\n",
       "    <tr>\n",
       "      <th>1</th>\n",
       "      <td>4.0</td>\n",
       "      <td>54</td>\n",
       "      <td>0</td>\n",
       "      <td>1</td>\n",
       "    </tr>\n",
       "    <tr>\n",
       "      <th>2</th>\n",
       "      <td>4.0</td>\n",
       "      <td>26</td>\n",
       "      <td>0</td>\n",
       "      <td>1</td>\n",
       "    </tr>\n",
       "    <tr>\n",
       "      <th>3</th>\n",
       "      <td>5.0</td>\n",
       "      <td>42</td>\n",
       "      <td>0</td>\n",
       "      <td>1</td>\n",
       "    </tr>\n",
       "    <tr>\n",
       "      <th>4</th>\n",
       "      <td>4.0</td>\n",
       "      <td>29</td>\n",
       "      <td>0</td>\n",
       "      <td>1</td>\n",
       "    </tr>\n",
       "  </tbody>\n",
       "</table>\n",
       "</div>"
      ],
      "text/plain": [
       "   Количество больничных дней  Возраст  Пол_Ж  Пол_М\n",
       "0                         5.0       39      1      0\n",
       "1                         4.0       54      0      1\n",
       "2                         4.0       26      0      1\n",
       "3                         5.0       42      0      1\n",
       "4                         4.0       29      0      1"
      ]
     },
     "metadata": {},
     "output_type": "display_data"
    }
   ],
   "source": [
    "df_sexes=pd.get_dummies(df_raw, columns=['Пол'])\n",
    "df_sexes['Количество больничных дней']=df_sexes['Количество больничных дней'].astype(float)\n",
    "display(df_sexes.head())"
   ]
  },
  {
   "cell_type": "markdown",
   "metadata": {},
   "source": [
    "2. Выделим случаи, где более 2-х пропущенных дней"
   ]
  },
  {
   "cell_type": "code",
   "execution_count": 70,
   "metadata": {},
   "outputs": [
    {
     "name": "stdout",
     "output_type": "stream",
     "text": [
      "Всего случаев пропусков более 2-х дней: 151\n"
     ]
    }
   ],
   "source": [
    "df_sexes=df_sexes[df_sexes['Количество больничных дней']>2]\n",
    "print('Всего случаев пропусков более 2-х дней:',len(df_sexes))"
   ]
  },
  {
   "cell_type": "markdown",
   "metadata": {},
   "source": [
    "3. Создадим данные о работниках, болевших более 2-х дней, male и female работниках двумя отдельными dataset-ами"
   ]
  },
  {
   "cell_type": "code",
   "execution_count": 71,
   "metadata": {},
   "outputs": [
    {
     "name": "stdout",
     "output_type": "stream",
     "text": [
      "Число male: 84\n",
      "Число female 67\n",
      "Всего людей: 151\n"
     ]
    }
   ],
   "source": [
    "df_male=df_sexes[df_sexes['Пол_М']==1]\n",
    "print('Число male:', len(df_male))\n",
    "df_female=df_sexes[df_sexes['Пол_Ж']==1]\n",
    "print('Число female',len(df_female))\n",
    "print(\"Всего людей:\",len(df_male)+len(df_female))"
   ]
  },
  {
   "cell_type": "markdown",
   "metadata": {},
   "source": [
    "4. Подсчитаем для male и female их число и mean, var и std"
   ]
  },
  {
   "cell_type": "code",
   "execution_count": 72,
   "metadata": {},
   "outputs": [
    {
     "name": "stdout",
     "output_type": "stream",
     "text": [
      "MALES: n_males=84,sick_leaves_male_mean=4.33,sick_leaves_male_var=2.18,sick_leaves_male_std=1.48\n",
      "FEMALES: n_females=67,sick_leaves_female_mean=4.24,sick_leaves_female_var=1.61,sick_leaves_female_std=1.27\n"
     ]
    }
   ],
   "source": [
    "sick_leaves_male_mean=df_male['Количество больничных дней'].mean()\n",
    "sick_leaves_male_var=df_male['Количество больничных дней'].var()\n",
    "sick_leaves_male_std=df_male['Количество больничных дней'].std()\n",
    "n_males=len(df_male['Количество больничных дней'])\n",
    "print(f'MALES: n_males={n_males},sick_leaves_male_mean={sick_leaves_male_mean:.3},sick_leaves_male_var={sick_leaves_male_var:.3},sick_leaves_male_std={sick_leaves_male_std:.3}')\n",
    "sick_leaves_female_mean=df_female['Количество больничных дней'].mean()\n",
    "sick_leaves_female_var=df_female['Количество больничных дней'].var()\n",
    "sick_leaves_female_std=df_female['Количество больничных дней'].std()\n",
    "n_females=len(df_female['Количество больничных дней'])\n",
    "print(f'FEMALES: n_females={n_females},sick_leaves_female_mean={sick_leaves_female_mean:.3},sick_leaves_female_var={sick_leaves_female_var:.3},sick_leaves_female_std={sick_leaves_female_std:.3}')"
   ]
  },
  {
   "cell_type": "markdown",
   "metadata": {},
   "source": [
    "5. Выдвинем нулевую гипотезу - количество больничных дней больше 2-х не зависит от пола работника. Применим дисперсионный анализ: обе выборки (males и females) принадлежат одной генеральной совокупности. Применим двусторонний критерий Фишера.\n",
    "Обозначения:\n",
    "p - уровень значимости\n",
    "F_sexes - значение полученной F  статистики (делим var males на var females)\n",
    "F_crit_right - критическое значение справа\n",
    "F_crit_left  - критическое значение слева\n",
    "Если F_sexes попадает между F_crit_left и F_crit_right, то принимаем нулевую гипотезу при данном уровне значимости"
   ]
  },
  {
   "cell_type": "code",
   "execution_count": 73,
   "metadata": {},
   "outputs": [
    {
     "name": "stdout",
     "output_type": "stream",
     "text": [
      "p = 0.2, F_sexes=1.35, F_crit_left=0.743, F_crit_right=1.36\n"
     ]
    }
   ],
   "source": [
    "p=0.2\n",
    "F_sexes=sick_leaves_male_var/sick_leaves_female_var\n",
    "F_crit_right=scipy.stats.f.ppf(1-p/2, n_males-1, n_females-1)\n",
    "F_crit_left=1/(scipy.stats.f.ppf(1-p/2, n_females-1, n_males-1))\n",
    "print(f'p = {p}, F_sexes={F_sexes:.3}, F_crit_left={F_crit_left:.3}, F_crit_right={F_crit_right:.3}')"
   ]
  },
  {
   "cell_type": "code",
   "execution_count": 74,
   "metadata": {},
   "outputs": [
    {
     "name": "stdout",
     "output_type": "stream",
     "text": [
      "----------------------------------------------------------------------\n",
      "ЗАДАЧА 1. РЕШЕНИЕ:\n",
      "----------------------------------------------------------------------\n",
      "НУЛЕВАЯ ГИПОТЕЗА: ЧИСЛО БОЛЬНИЧНЫХ ДНЕЙ БОЛЬШЕ 2-Х НЕ ЗАВИСИТ ОТ ПОЛА РАБОТНИКА \n",
      "----------------------------------------------------------------------\n",
      "ОТВЕТ:\n",
      "НУЛЕВАЯ ГИПОТЕЗА ПРИНИМАЕТСЯ при уровне значимости p=0.2, ЧИСЛО БОЛЬНИЧНЫХ ДНЕЙ БОЛЬШЕ 2-Х  НЕ ЗАВИСИТ ОТ ПОЛА РАБОТНИКА\n",
      "----------------------------------------------------------------------\n"
     ]
    }
   ],
   "source": [
    "print('----------------------------------------------------------------------')\n",
    "print('ЗАДАЧА 1. РЕШЕНИЕ:')\n",
    "print('----------------------------------------------------------------------')\n",
    "print('НУЛЕВАЯ ГИПОТЕЗА: ЧИСЛО БОЛЬНИЧНЫХ ДНЕЙ БОЛЬШЕ 2-Х НЕ ЗАВИСИТ ОТ ПОЛА РАБОТНИКА ')\n",
    "print('----------------------------------------------------------------------')\n",
    "print('ОТВЕТ:')\n",
    "if F_sexes<=F_crit_right and F_sexes>=F_crit_left:\n",
    "    print(f'НУЛЕВАЯ ГИПОТЕЗА ПРИНИМАЕТСЯ при уровне значимости p={p}, ЧИСЛО БОЛЬНИЧНЫХ ДНЕЙ БОЛЬШЕ 2-Х  НЕ ЗАВИСИТ ОТ ПОЛА РАБОТНИКА')\n",
    "else:\n",
    "    print('НУЛЕВАЯ ГИПОТЕЗА ОТВЕРГАЕТСЯ при уровне значимости p={p}')\n",
    "print('----------------------------------------------------------------------')"
   ]
  },
  {
   "cell_type": "markdown",
   "metadata": {},
   "source": [
    "II. Задача о зависимости числа больничных дней от возраста работника"
   ]
  },
  {
   "cell_type": "markdown",
   "metadata": {},
   "source": [
    "1. Создадим данные о работниках, болевших более 2-х дней, старше 35-ти лет и младшэ 35-ти лет, двумя отдельными dataset-ами"
   ]
  },
  {
   "cell_type": "code",
   "execution_count": 75,
   "metadata": {},
   "outputs": [
    {
     "name": "stdout",
     "output_type": "stream",
     "text": [
      "Число людей, младше 35-ти включительно: 36\n",
      "Число людей, старше 35-ти: 115\n",
      "Всего людей: 151\n"
     ]
    }
   ],
   "source": [
    "df_ages=df_sexes\n",
    "df_young=df_ages[df_ages['Возраст']<=35]\n",
    "print(\"Число людей, младше 35-ти включительно:\",len(df_young))\n",
    "df_old=df_ages[df_ages['Возраст']>35]\n",
    "print(\"Число людей, старше 35-ти:\",len(df_old))\n",
    "print(\"Всего людей:\",len(df_young)+len(df_old))"
   ]
  },
  {
   "cell_type": "code",
   "execution_count": null,
   "metadata": {},
   "outputs": [],
   "source": [
    "2. Подсчитаем для \"старше 35-ти\" и \"до 35-ти включительно\" их число и mean, var и std"
   ]
  },
  {
   "cell_type": "code",
   "execution_count": 76,
   "metadata": {},
   "outputs": [
    {
     "name": "stdout",
     "output_type": "stream",
     "text": [
      "До 35-ти включительно: n_young=36,sick_leaves_young_mean=4.44,sick_leaves_young_var=2.14,sick_leaves_young_std=1.46\n",
      "Старше 35-ти: n_old=115,sick_leaves_old_mean=4.24,sick_leaves_old_var=1.85,sick_leaves_old_std=1.36\n"
     ]
    }
   ],
   "source": [
    "sick_leaves_young_mean=df_young['Количество больничных дней'].mean()\n",
    "sick_leaves_young_var=df_young['Количество больничных дней'].var()\n",
    "sick_leaves_young_std=df_young['Количество больничных дней'].std()\n",
    "n_young=len(df_young['Количество больничных дней'])\n",
    "print(f'До 35-ти включительно: n_young={n_young},sick_leaves_young_mean={sick_leaves_young_mean:.3},sick_leaves_young_var={sick_leaves_young_var:.3},sick_leaves_young_std={sick_leaves_young_std:.3}')\n",
    "\n",
    "sick_leaves_old_mean=df_old['Количество больничных дней'].mean()\n",
    "sick_leaves_old_var=df_old['Количество больничных дней'].var()\n",
    "sick_leaves_old_std=df_old['Количество больничных дней'].std()\n",
    "n_old=len(df_old['Количество больничных дней'])\n",
    "print(f'Старше 35-ти: n_old={n_old},sick_leaves_old_mean={sick_leaves_old_mean:.3},sick_leaves_old_var={sick_leaves_old_var:.3},sick_leaves_old_std={sick_leaves_old_std:.3}')\n"
   ]
  },
  {
   "cell_type": "markdown",
   "metadata": {},
   "source": [
    "3. Выдвинем нулевую гипотезу - количество больничных дней больше 2-ч не зависит от возраста работника. Применим дисперсионный анализ: обе выборки (males и females) принадлежат одной генеральной совокупности. Применим двусторонний критерий Фишера.\n",
    "Обозначения:\n",
    "p - уровень значимости\n",
    "F_ages - значение полученной F  статистики (делим var young на var old)\n",
    "F_crit_right - критическое значение справа\n",
    "F_crit_left  - критическое значение слева\n",
    "Если F_ages попадает между F_crit_left и F_crit_right, то принимаем нулевую гипотезу при данном уровне значимости"
   ]
  },
  {
   "cell_type": "code",
   "execution_count": 77,
   "metadata": {},
   "outputs": [
    {
     "name": "stdout",
     "output_type": "stream",
     "text": [
      "p = 0.2, F_ages=1.16, F_crit_left=0.685, F_crit_right=1.39\n"
     ]
    }
   ],
   "source": [
    "p=0.2\n",
    "F_ages=sick_leaves_young_var/sick_leaves_old_var\n",
    "F_crit_right=scipy.stats.f.ppf(1-p/2, n_young-1, n_old-1)\n",
    "F_crit_left=1/(scipy.stats.f.ppf(1-p/2, n_old-1, n_young-1))\n",
    "print(f'p = {p}, F_ages={F_ages:.3}, F_crit_left={F_crit_left:.3}, F_crit_right={F_crit_right:.3}')"
   ]
  },
  {
   "cell_type": "code",
   "execution_count": 78,
   "metadata": {},
   "outputs": [
    {
     "name": "stdout",
     "output_type": "stream",
     "text": [
      "----------------------------------------------------------------------\n",
      "ЗАДАЧА 2. РЕШЕНИЕ:\n",
      "----------------------------------------------------------------------\n",
      "НУЛЕВАЯ ГИПОТЕЗА: ЧИСЛО БОЛЬНИЧНЫХ ДНЕЙ БОЛЬШЕ 2-Х НЕ ЗАВИСИТ ОТ ВОЗРАСТА РАБОТНИКА \n",
      "----------------------------------------------------------------------\n",
      "ОТВЕТ:\n",
      "НУЛЕВАЯ ГИПОТЕЗА ПРИНИМАЕТСЯ при уровне значимости p=0.2, ЧИСЛО БОЛЬНИЧНЫХ ДНЕЙ БОЛЬШЕ 2-Х НЕ ЗАВИСИТ ОТ ВОЗРАСТА РАБОТНИКА\n",
      "----------------------------------------------------------------------\n"
     ]
    }
   ],
   "source": [
    "print('----------------------------------------------------------------------')\n",
    "print('ЗАДАЧА 2. РЕШЕНИЕ:')\n",
    "print('----------------------------------------------------------------------')\n",
    "print('НУЛЕВАЯ ГИПОТЕЗА: ЧИСЛО БОЛЬНИЧНЫХ ДНЕЙ БОЛЬШЕ 2-Х НЕ ЗАВИСИТ ОТ ВОЗРАСТА РАБОТНИКА ')\n",
    "print('----------------------------------------------------------------------')\n",
    "print('ОТВЕТ:')\n",
    "if F_ages<=F_crit_right and F_ages>=F_crit_left:\n",
    "    print(f'НУЛЕВАЯ ГИПОТЕЗА ПРИНИМАЕТСЯ при уровне значимости p={p}, ЧИСЛО БОЛЬНИЧНЫХ ДНЕЙ БОЛЬШЕ 2-Х НЕ ЗАВИСИТ ОТ ВОЗРАСТА РАБОТНИКА')\n",
    "else:\n",
    "    print('НУЛЕВАЯ ГИПОТЕЗА ОТВЕРГАЕТСЯ при уровне значимости p={p}')\n",
    "print('----------------------------------------------------------------------')"
   ]
  },
  {
   "cell_type": "code",
   "execution_count": null,
   "metadata": {},
   "outputs": [],
   "source": []
  }
 ],
 "metadata": {
  "kernelspec": {
   "display_name": "Python 3",
   "language": "python",
   "name": "python3"
  },
  "language_info": {
   "codemirror_mode": {
    "name": "ipython",
    "version": 3
   },
   "file_extension": ".py",
   "mimetype": "text/x-python",
   "name": "python",
   "nbconvert_exporter": "python",
   "pygments_lexer": "ipython3",
   "version": "3.8.5"
  }
 },
 "nbformat": 4,
 "nbformat_minor": 4
}
